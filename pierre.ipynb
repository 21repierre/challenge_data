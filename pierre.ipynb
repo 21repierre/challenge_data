{
 "cells": [
  {
   "cell_type": "code",
   "execution_count": 1,
   "id": "initial_id",
   "metadata": {
    "ExecuteTime": {
     "end_time": "2024-01-29T13:43:42.966852732Z",
     "start_time": "2024-01-29T13:43:42.761409800Z"
    }
   },
   "outputs": [],
   "source": [
    "import h5py\n",
    "import numpy as np\n"
   ]
  },
  {
   "cell_type": "code",
   "execution_count": 2,
   "id": "5c5a52d7853b5738",
   "metadata": {
    "collapsed": false,
    "ExecuteTime": {
     "end_time": "2024-01-29T13:43:43.058349768Z",
     "start_time": "2024-01-29T13:43:42.960238724Z"
    }
   },
   "outputs": [
    {
     "name": "stdout",
     "output_type": "stream",
     "text": [
      "> Images\n",
      "Number of training images     : 486\n",
      "Number of frames per sequence : 10\n",
      "Image shape                   : (200, 200)\n",
      "\n",
      "> Landmarks\n",
      "Number of landmarks in a face      : 478\n",
      "Number of coordinates per landmark : 3\n",
      "\n",
      "> Labels\n",
      "Number of training labels: 486\n"
     ]
    }
   ],
   "source": [
    "## 1. IMAGES\n",
    "h5f = h5py.File('datasets/data_train_images.h5', 'r')\n",
    "train_images = h5f['data_train_images'][:]\n",
    "h5f.close()\n",
    "\n",
    "## 2. LANDMARKS\n",
    "h5f = h5py.File('datasets/data_train_landmarks.h5', 'r')\n",
    "train_landmarks = h5f['data_train_landmarks'][:]\n",
    "h5f.close()\n",
    "\n",
    "## 3. LABELS\n",
    "h5f = h5py.File('datasets/data_train_labels.h5', 'r')\n",
    "train_labels = h5f['data_train_labels'][:]\n",
    "h5f.close()\n",
    "\n",
    "## display the size of the different data tables\n",
    "print(\"> Images\")\n",
    "print('Number of training images     :', train_images.shape[0])\n",
    "print('Number of frames per sequence :', train_images.shape[1])\n",
    "print('Image shape                   :', train_images[0][0].shape)\n",
    "\n",
    "print(\"\\n> Landmarks\")\n",
    "print('Number of landmarks in a face      :', train_landmarks.shape[2])\n",
    "print('Number of coordinates per landmark :', train_landmarks.shape[-1])\n",
    "\n",
    "print(\"\\n> Labels\")\n",
    "print('Number of training labels:', train_labels.shape[0])"
   ]
  },
  {
   "cell_type": "code",
   "execution_count": null,
   "id": "80a479cc90228426",
   "metadata": {
    "collapsed": false
   },
   "outputs": [],
   "source": [
    "print(train_landmarks[0])\n",
    "print(np.unique(train_labels))"
   ]
  },
  {
   "cell_type": "markdown",
   "id": "6f66283c449962e7",
   "metadata": {
    "collapsed": false
   },
   "source": [
    "# PyTorch"
   ]
  },
  {
   "cell_type": "code",
   "execution_count": 1,
   "id": "ceefa25e74ae7999",
   "metadata": {
    "collapsed": false,
    "ExecuteTime": {
     "end_time": "2024-01-29T13:56:40.463385153Z",
     "start_time": "2024-01-29T13:56:38.986994483Z"
    }
   },
   "outputs": [
    {
     "name": "stdout",
     "output_type": "stream",
     "text": [
      "Using cpu device\n"
     ]
    }
   ],
   "source": [
    "import torch\n",
    "\n",
    "device = (\"cuda\" if torch.cuda.is_available() else \"mps\" if torch.backends.mps.is_available() else \"cpu\")\n",
    "print(f\"Using {device} device\")"
   ]
  },
  {
   "cell_type": "code",
   "execution_count": 2,
   "outputs": [
    {
     "name": "stderr",
     "output_type": "stream",
     "text": [
      "2024-01-29 14:56:44,987\tINFO worker.py:1724 -- Started a local Ray instance.\n"
     ]
    }
   ],
   "source": [
    "from pierre import train_model, load_dataset, Model1\n",
    "from ray.tune.schedulers import ASHAScheduler\n",
    "from ray import tune"
   ],
   "metadata": {
    "collapsed": false,
    "ExecuteTime": {
     "end_time": "2024-01-29T13:56:45.885699051Z",
     "start_time": "2024-01-29T13:56:40.684373406Z"
    }
   },
   "id": "3b6ecbb29ad8b2d8"
  },
  {
   "cell_type": "code",
   "execution_count": 3,
   "id": "9fcc76d655da7c8",
   "metadata": {
    "collapsed": false,
    "ExecuteTime": {
     "end_time": "2024-01-29T13:56:49.027970036Z",
     "start_time": "2024-01-29T13:56:48.806875241Z"
    }
   },
   "outputs": [
    {
     "ename": "NameError",
     "evalue": "name 'np' is not defined",
     "output_type": "error",
     "traceback": [
      "\u001B[0;31m---------------------------------------------------------------------------\u001B[0m",
      "\u001B[0;31mNameError\u001B[0m                                 Traceback (most recent call last)",
      "Cell \u001B[0;32mIn[3], line 2\u001B[0m\n\u001B[1;32m      1\u001B[0m config \u001B[38;5;241m=\u001B[39m {\n\u001B[0;32m----> 2\u001B[0m     \u001B[38;5;124m\"\u001B[39m\u001B[38;5;124mn1\u001B[39m\u001B[38;5;124m\"\u001B[39m: tune\u001B[38;5;241m.\u001B[39mchoice(\u001B[43mnp\u001B[49m\u001B[38;5;241m.\u001B[39marange(\u001B[38;5;241m1\u001B[39m, \u001B[38;5;241m4096\u001B[39m, \u001B[38;5;241m1\u001B[39m)),\n\u001B[1;32m      3\u001B[0m     \u001B[38;5;124m\"\u001B[39m\u001B[38;5;124mn2\u001B[39m\u001B[38;5;124m\"\u001B[39m: tune\u001B[38;5;241m.\u001B[39mchoice(np\u001B[38;5;241m.\u001B[39marange(\u001B[38;5;241m1\u001B[39m, \u001B[38;5;241m4096\u001B[39m, \u001B[38;5;241m1\u001B[39m)),\n\u001B[1;32m      4\u001B[0m     \u001B[38;5;124m\"\u001B[39m\u001B[38;5;124mn3\u001B[39m\u001B[38;5;124m\"\u001B[39m: tune\u001B[38;5;241m.\u001B[39mchoice(np\u001B[38;5;241m.\u001B[39marange(\u001B[38;5;241m1\u001B[39m, \u001B[38;5;241m4096\u001B[39m, \u001B[38;5;241m1\u001B[39m)),\n\u001B[1;32m      5\u001B[0m     \u001B[38;5;124m\"\u001B[39m\u001B[38;5;124mn4\u001B[39m\u001B[38;5;124m\"\u001B[39m: tune\u001B[38;5;241m.\u001B[39mchoice(np\u001B[38;5;241m.\u001B[39marange(\u001B[38;5;241m1\u001B[39m, \u001B[38;5;241m4096\u001B[39m, \u001B[38;5;241m1\u001B[39m)),\n\u001B[1;32m      6\u001B[0m     \u001B[38;5;124m\"\u001B[39m\u001B[38;5;124mn5\u001B[39m\u001B[38;5;124m\"\u001B[39m: tune\u001B[38;5;241m.\u001B[39mchoice(np\u001B[38;5;241m.\u001B[39marange(\u001B[38;5;241m1\u001B[39m, \u001B[38;5;241m1000\u001B[39m, \u001B[38;5;241m1\u001B[39m)),\n\u001B[1;32m      7\u001B[0m     \u001B[38;5;124m\"\u001B[39m\u001B[38;5;124mp1\u001B[39m\u001B[38;5;124m\"\u001B[39m: tune\u001B[38;5;241m.\u001B[39mchoice(np\u001B[38;5;241m.\u001B[39mlinspace(\u001B[38;5;241m0\u001B[39m, \u001B[38;5;241m1\u001B[39m, \u001B[38;5;241m100\u001B[39m)),\n\u001B[1;32m      8\u001B[0m     \u001B[38;5;124m\"\u001B[39m\u001B[38;5;124mp2\u001B[39m\u001B[38;5;124m\"\u001B[39m: tune\u001B[38;5;241m.\u001B[39mchoice(np\u001B[38;5;241m.\u001B[39mlinspace(\u001B[38;5;241m0\u001B[39m, \u001B[38;5;241m1\u001B[39m, \u001B[38;5;241m100\u001B[39m)),\n\u001B[1;32m      9\u001B[0m     \u001B[38;5;124m\"\u001B[39m\u001B[38;5;124mp3\u001B[39m\u001B[38;5;124m\"\u001B[39m: tune\u001B[38;5;241m.\u001B[39mchoice(np\u001B[38;5;241m.\u001B[39mlinspace(\u001B[38;5;241m0\u001B[39m, \u001B[38;5;241m1\u001B[39m, \u001B[38;5;241m100\u001B[39m)),\n\u001B[1;32m     10\u001B[0m     \u001B[38;5;124m\"\u001B[39m\u001B[38;5;124mp4\u001B[39m\u001B[38;5;124m\"\u001B[39m: tune\u001B[38;5;241m.\u001B[39mchoice(np\u001B[38;5;241m.\u001B[39mlinspace(\u001B[38;5;241m0\u001B[39m, \u001B[38;5;241m1\u001B[39m, \u001B[38;5;241m100\u001B[39m)),\n\u001B[1;32m     11\u001B[0m     \u001B[38;5;124m\"\u001B[39m\u001B[38;5;124mp5\u001B[39m\u001B[38;5;124m\"\u001B[39m: tune\u001B[38;5;241m.\u001B[39mchoice(np\u001B[38;5;241m.\u001B[39mlinspace(\u001B[38;5;241m0\u001B[39m, \u001B[38;5;241m1\u001B[39m, \u001B[38;5;241m50\u001B[39m)),\n\u001B[1;32m     12\u001B[0m     \u001B[38;5;124m\"\u001B[39m\u001B[38;5;124mlr\u001B[39m\u001B[38;5;124m\"\u001B[39m: tune\u001B[38;5;241m.\u001B[39mloguniform(\u001B[38;5;241m1e-5\u001B[39m, \u001B[38;5;241m1e-2\u001B[39m),\n\u001B[1;32m     13\u001B[0m     \u001B[38;5;124m\"\u001B[39m\u001B[38;5;124mbatch_size\u001B[39m\u001B[38;5;124m\"\u001B[39m: tune\u001B[38;5;241m.\u001B[39mchoice([\u001B[38;5;241m256\u001B[39m, \u001B[38;5;241m512\u001B[39m, \u001B[38;5;241m1024\u001B[39m, \u001B[38;5;241m2048\u001B[39m]),\n\u001B[1;32m     14\u001B[0m     \u001B[38;5;124m'\u001B[39m\u001B[38;5;124mmodel\u001B[39m\u001B[38;5;124m'\u001B[39m: tune\u001B[38;5;241m.\u001B[39mchoice([Model1]),\n\u001B[1;32m     15\u001B[0m     \u001B[38;5;124m'\u001B[39m\u001B[38;5;124mloss_fn\u001B[39m\u001B[38;5;124m'\u001B[39m: torch\u001B[38;5;241m.\u001B[39mnn\u001B[38;5;241m.\u001B[39mCrossEntropyLoss,\n\u001B[1;32m     16\u001B[0m     \u001B[38;5;124m'\u001B[39m\u001B[38;5;124mloader\u001B[39m\u001B[38;5;124m'\u001B[39m: load_dataset,\n\u001B[1;32m     17\u001B[0m     \u001B[38;5;124m'\u001B[39m\u001B[38;5;124mmax_epoch\u001B[39m\u001B[38;5;124m'\u001B[39m: \u001B[38;5;241m1000\u001B[39m,\n\u001B[1;32m     18\u001B[0m     \u001B[38;5;124m'\u001B[39m\u001B[38;5;124mdevice\u001B[39m\u001B[38;5;124m'\u001B[39m: device,\n\u001B[1;32m     19\u001B[0m     \u001B[38;5;124m'\u001B[39m\u001B[38;5;124mshow_bar\u001B[39m\u001B[38;5;124m'\u001B[39m: \u001B[38;5;28;01mFalse\u001B[39;00m,\n\u001B[1;32m     20\u001B[0m }\n\u001B[1;32m     21\u001B[0m scheduler \u001B[38;5;241m=\u001B[39m ASHAScheduler(\n\u001B[1;32m     22\u001B[0m     metric\u001B[38;5;241m=\u001B[39m\u001B[38;5;124m\"\u001B[39m\u001B[38;5;124mloss\u001B[39m\u001B[38;5;124m\"\u001B[39m,\n\u001B[1;32m     23\u001B[0m     mode\u001B[38;5;241m=\u001B[39m\u001B[38;5;124m\"\u001B[39m\u001B[38;5;124mmin\u001B[39m\u001B[38;5;124m\"\u001B[39m,\n\u001B[0;32m   (...)\u001B[0m\n\u001B[1;32m     26\u001B[0m     reduction_factor\u001B[38;5;241m=\u001B[39m\u001B[38;5;241m2\u001B[39m,\n\u001B[1;32m     27\u001B[0m )\n\u001B[1;32m     29\u001B[0m \u001B[38;5;66;03m# Handles the results\u001B[39;00m\n",
      "\u001B[0;31mNameError\u001B[0m: name 'np' is not defined"
     ]
    }
   ],
   "source": [
    "\n",
    "config = {\n",
    "    \"n1\": tune.choice(np.arange(1, 4096, 1)),\n",
    "    \"n2\": tune.choice(np.arange(1, 4096, 1)),\n",
    "    \"n3\": tune.choice(np.arange(1, 4096, 1)),\n",
    "    \"n4\": tune.choice(np.arange(1, 4096, 1)),\n",
    "    \"n5\": tune.choice(np.arange(1, 1000, 1)),\n",
    "    \"p1\": tune.choice(np.linspace(0, 1, 100)),\n",
    "    \"p2\": tune.choice(np.linspace(0, 1, 100)),\n",
    "    \"p3\": tune.choice(np.linspace(0, 1, 100)),\n",
    "    \"p4\": tune.choice(np.linspace(0, 1, 100)),\n",
    "    \"p5\": tune.choice(np.linspace(0, 1, 50)),\n",
    "    \"lr\": tune.loguniform(1e-5, 1e-2),\n",
    "    \"batch_size\": tune.choice([256, 512, 1024, 2048]),\n",
    "    'model': tune.choice([Model1]),\n",
    "    'loss_fn': torch.nn.CrossEntropyLoss,\n",
    "    'loader': load_dataset,\n",
    "    'max_epoch': 1000,\n",
    "    'device': device,\n",
    "    'show_bar': False,\n",
    "}\n",
    "scheduler = ASHAScheduler(\n",
    "    metric=\"loss\",\n",
    "    mode=\"min\",\n",
    "    max_t=200,\n",
    "    grace_period=1,\n",
    "    reduction_factor=2,\n",
    ")\n",
    "\n",
    "# Handles the results\n",
    "result = tune.run(\n",
    "    train_model.remote,\n",
    "    resources_per_trial={\"cpu\": 4, \"gpu\": 0},\n",
    "    config=config,\n",
    "    num_samples=2,\n",
    "    scheduler=scheduler,\n",
    ")\n",
    "\n",
    "# Find the best config on the accuracy parameter\n",
    "best_trial = result.get_best_trial(\"accuracy\", \"max\", \"last\")\n",
    "print(f\"Best trial config: {best_trial.config}\")\n",
    "print(f\"Best trial final validation loss: {best_trial.last_result['loss']}\")\n",
    "print(f\"Best trial final validation accuracy: {best_trial.last_result['accuracy']}\")"
   ]
  },
  {
   "cell_type": "code",
   "execution_count": 14,
   "id": "73e7e11a-cccf-4a1d-818e-c233050f3e02",
   "metadata": {
    "ExecuteTime": {
     "end_time": "2024-01-29T13:52:05.605158875Z",
     "start_time": "2024-01-29T13:52:05.558441735Z"
    }
   },
   "outputs": [
    {
     "name": "stdout",
     "output_type": "stream",
     "text": [
      "ASDSSSSSSSSSSSS\n",
      "tensor([[ 0.4788,  0.6395, -0.1146,  ...,  0.6768,  0.4188,  0.0223],\n",
      "        [ 0.4776,  0.6404, -0.1145,  ...,  0.6803,  0.4127,  0.0202],\n",
      "        [ 0.4806,  0.6420, -0.1137,  ...,  0.6823,  0.4116,  0.0186],\n",
      "        ...,\n",
      "        [ 0.4742,  0.6650, -0.1075,  ...,  0.6843,  0.4031,  0.0126],\n",
      "        [ 0.4777,  0.6602, -0.1075,  ...,  0.6862,  0.4048,  0.0134],\n",
      "        [ 0.4784,  0.6591, -0.1070,  ...,  0.6858,  0.4056,  0.0133]])\n",
      "torch.Size([10, 1434])\n",
      "torch.Size([1, 10, 1434])\n",
      "torch.Size([3, 10, 478])\n",
      "\n",
      "torch.Size([1, 6]) tensor([[nan, nan, nan, nan, nan, nan]], grad_fn=<AddmmBackward0>)\n"
     ]
    }
   ],
   "source": [
    "\n",
    "m = train.remote({\n",
    "    \"lr\": 1e-3,\n",
    "    \"batch_size\": 256,\n",
    "    'model': Model1,\n",
    "    'loss_fn': torch.nn.CrossEntropyLoss,\n",
    "    'loader': load_dataset\n",
    "}, device)\n",
    "\n",
    "print(\"ASDSSSSSSSSSSSS\")\n",
    "ts, _ = load_dataset(256, device)\n",
    "pt0 = ts.dataset[0][0]\n",
    "print(pt0)\n",
    "print(pt0.shape)\n",
    "print(pt0.unsqueeze(0).shape)\n",
    "print(pt0.reshape((3, 10, 478)).shape)\n",
    "print()\n",
    "mdl = Model1()\n",
    "r = mdl.forward(pt0.unsqueeze(0).reshape((1, 10, 3 * 478)))\n",
    "print(r.shape, r)"
   ]
  }
 ],
 "metadata": {
  "kernelspec": {
   "display_name": "Python 3 (ipykernel)",
   "language": "python",
   "name": "python3"
  },
  "language_info": {
   "codemirror_mode": {
    "name": "ipython",
    "version": 3
   },
   "file_extension": ".py",
   "mimetype": "text/x-python",
   "name": "python",
   "nbconvert_exporter": "python",
   "pygments_lexer": "ipython3",
   "version": "3.11.6"
  }
 },
 "nbformat": 4,
 "nbformat_minor": 5
}
